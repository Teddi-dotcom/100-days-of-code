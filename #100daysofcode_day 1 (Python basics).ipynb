{
 "cells": [
  {
   "cell_type": "markdown",
   "id": "d1aed253-39d8-4e98-b5a6-3542f8432802",
   "metadata": {},
   "source": [
    "***INTRODUCTION TO PYTHON PROGRAMMING***\n"
   ]
  },
  {
   "cell_type": "code",
   "execution_count": 101,
   "id": "6ad1367c-82c0-47b7-956a-31745163d7ca",
   "metadata": {},
   "outputs": [],
   "source": [
    "#Excersises on variables and input\n",
    "#check in a patient named John smith\n",
    "#He is 20 yrs old\n",
    "#He is a new patient\n"
   ]
  },
  {
   "cell_type": "code",
   "execution_count": 102,
   "id": "382dcca7-7740-4600-8711-4f891102d3d3",
   "metadata": {},
   "outputs": [
    {
     "name": "stdout",
     "output_type": "stream",
     "text": [
      "John Smith\n",
      "20\n",
      "He is a new patient\n"
     ]
    },
    {
     "name": "stdin",
     "output_type": "stream",
     "text": [
      "what is your name? :  Jane Doe\n"
     ]
    },
    {
     "name": "stdout",
     "output_type": "stream",
     "text": [
      "Hello Jane Doe\n"
     ]
    },
    {
     "name": "stdin",
     "output_type": "stream",
     "text": [
      "How old are you? :  23\n"
     ]
    },
    {
     "name": "stdout",
     "output_type": "stream",
     "text": [
      "You are 23 years old\n"
     ]
    },
    {
     "name": "stdin",
     "output_type": "stream",
     "text": [
      "Old or new? :  new\n"
     ]
    },
    {
     "name": "stdout",
     "output_type": "stream",
     "text": [
      "you are a new Patient\n"
     ]
    }
   ],
   "source": [
    "#Answer\n",
    "\n",
    "Patient_name = \"John Smith\"\n",
    "Age = 20\n",
    "Checkin_condition = \"He is a new patient\"\n",
    "print(Patient_name)\n",
    "print(Age)\n",
    "print(Checkin_condition)\n",
    "# or\n",
    "\n",
    "\n",
    "Patient_names = str(input(\"what is your name? : \"))\n",
    "print(\"Hello\" + \" \" +  Patient_names)\n",
    "\n",
    "Patient_age = int(input(\"How old are you? : \"))\n",
    "print(\"You are\" +  \" \" + str(Patient_age) + \" \" + \"years old\")\n",
    "\n",
    "Patient_condition = str(input(\"Old or new? : \"))\n",
    "print(\"you are a\" + \" \" + Patient_condition + \" \" + \"Patient\")\n"
   ]
  },
  {
   "cell_type": "code",
   "execution_count": null,
   "id": "b0169e3c-bb70-4a42-aeb5-cd959185183d",
   "metadata": {},
   "outputs": [],
   "source": []
  },
  {
   "cell_type": "markdown",
   "id": "adfe8190-0a0d-4687-b952-6e2c52b9aa04",
   "metadata": {},
   "source": [
    "***NUMERICAL OPERATIONS***"
   ]
  },
  {
   "cell_type": "code",
   "execution_count": 104,
   "id": "2dab6440-90b8-4033-83a3-bff14027d769",
   "metadata": {},
   "outputs": [
    {
     "name": "stdout",
     "output_type": "stream",
     "text": [
      "3.3333333333333335\n",
      "3\n",
      "1\n",
      "13\n",
      "7\n",
      "30\n",
      "1000\n"
     ]
    }
   ],
   "source": [
    "#there are 2 different types of division,one to get (/) integer and another (//) to get float\n",
    "x = 10\n",
    "y =3\n",
    "print(x/y)\n",
    "print(x//y)\n",
    "\n",
    "#and at a modulus sign(%) to get the reminder\n",
    "\n",
    "print(x%y)\n",
    "\n",
    "#addition (+)\n",
    "print(x+y)\n",
    "\n",
    "#subtraction (-)\n",
    "print(x -y)\n",
    "\n",
    "#multiplication(*)\n",
    "print(x*y)\n",
    "\n",
    "#power of\n",
    "print(x**y)"
   ]
  },
  {
   "cell_type": "markdown",
   "id": "28e63469-f3b8-4ca6-9f2f-8b17c9bb4bfd",
   "metadata": {},
   "source": [
    "***COMPARISM OPERATOR***"
   ]
  },
  {
   "cell_type": "code",
   "execution_count": 108,
   "id": "3272327a-a41d-45de-ace9-8756ed0495df",
   "metadata": {},
   "outputs": [
    {
     "name": "stdout",
     "output_type": "stream",
     "text": [
      "True\n",
      "False\n",
      "True\n",
      "False\n",
      "True\n",
      "False\n"
     ]
    }
   ],
   "source": [
    "#for greater than, we use(>)\n",
    "z = 10 > 5\n",
    "print(z)\n",
    "\n",
    "#for lesser than, we use(<)\n",
    "z = 10 <5\n",
    "print(z)\n",
    "\n",
    "# for not equal we use (!=)\n",
    "z = 10 !=5\n",
    "print(z)\n",
    "\n",
    "#for equal to we use (==) not to be confused for(=)\n",
    "z = 10 == 5\n",
    "print (z)\n",
    "\n",
    "#for greater than or equals to, we (>=)\n",
    "z = 10 >=5\n",
    "print(z)\n",
    "\n",
    "#for lesser than or eqals to we use (<=)\n",
    "z = 10 <=5 \n",
    "print(z)"
   ]
  },
  {
   "cell_type": "code",
   "execution_count": null,
   "id": "0ef9296e-3442-4667-b893-d150d2dce647",
   "metadata": {},
   "outputs": [],
   "source": []
  },
  {
   "cell_type": "code",
   "execution_count": null,
   "id": "32536e51-01b9-4baa-926d-04e7946413fd",
   "metadata": {},
   "outputs": [],
   "source": []
  },
  {
   "cell_type": "markdown",
   "id": "efa41614-b9df-4f50-8a81-93d622ed2600",
   "metadata": {},
   "source": [
    "***STRING OPERATIONS***"
   ]
  },
  {
   "cell_type": "code",
   "execution_count": null,
   "id": "68ea9de3-2440-46b5-9230-403e3a9d369c",
   "metadata": {},
   "outputs": [],
   "source": [
    "print(\"You are\" + str(Patient_age) + ' \"+ \"old')"
   ]
  },
  {
   "cell_type": "code",
   "execution_count": null,
   "id": "2fa1d4a4-26ba-4e6c-9467-ba3d6f09dc46",
   "metadata": {},
   "outputs": [],
   "source": [
    "#To capitalize\n",
    "\n",
    "block = \"Better days ahead\"\n",
    "print(block.upper())\n",
    "\n",
    "#To make lowercase\n",
    "print(block.lower())\n",
    "\n",
    "#To find a letter in a string\n",
    "\n",
    "print(block.find(\"days\"))\n",
    "\n",
    "\n",
    "#To replace a string\n",
    "print(block.replace(\"ahead\",\"behind\"))\n",
    "\n",
    "#To check for characters\n",
    "print(\"Better\" in block)\n"
   ]
  },
  {
   "cell_type": "code",
   "execution_count": null,
   "id": "03c30d27-b278-4b2c-bc01-9e0e945390b4",
   "metadata": {},
   "outputs": [],
   "source": []
  },
  {
   "cell_type": "markdown",
   "id": "e7d10f66-0007-4ba3-b464-d49b1abf41e8",
   "metadata": {},
   "source": [
    "\n",
    "The string is not properly closed, which leads to a `SyntaxError` due to the unterminated string literal. \n",
    "\n",
    "To fix this, you should ensure that the string is correctly formatted. Here’s the corrected line:\n"
   ]
  },
  {
   "cell_type": "code",
   "execution_count": null,
   "id": "be035044-adc4-4e20-ba79-7d54f728d64a",
   "metadata": {},
   "outputs": [],
   "source": []
  },
  {
   "cell_type": "markdown",
   "id": "acdc294e-f287-4007-a85b-fdbc4bafdbf4",
   "metadata": {},
   "source": [
    "***LOGICAL OPERATORS***"
   ]
  },
  {
   "cell_type": "code",
   "execution_count": 111,
   "id": "64faf096-5292-43b5-b318-15c16e5d473f",
   "metadata": {},
   "outputs": [],
   "source": [
    "#These include (and, not and or) been used to make logical expreestion"
   ]
  },
  {
   "cell_type": "markdown",
   "id": "8d790e77-4831-438a-b528-d6b950745699",
   "metadata": {},
   "source": [
    "\n",
    "***IF STATEMENT***"
   ]
  },
  {
   "cell_type": "code",
   "execution_count": 124,
   "id": "e77faf49-e629-4386-b3e2-250546bed05c",
   "metadata": {},
   "outputs": [
    {
     "name": "stdout",
     "output_type": "stream",
     "text": [
      "we are wealthy\n",
      "but we work harder\n"
     ]
    }
   ],
   "source": [
    "rich = 101\n",
    "\n",
    "if rich < 100:\n",
    "    print(\"we are trying\")\n",
    "elif rich > 100:\n",
    "    print(\"we are wealthy\")\n",
    "    print(\"but we work harder\")\n",
    "else:\n",
    "    print(\"we made it\")\n",
    "    print(\"but we work harder\")"
   ]
  },
  {
   "cell_type": "markdown",
   "id": "788f5ed2-c7d8-4187-b46f-4d67c7958e5f",
   "metadata": {},
   "source": [
    "***EXERCISE***"
   ]
  },
  {
   "cell_type": "code",
   "execution_count": 143,
   "id": "154bb023-4800-4ed6-81c1-779a6de31322",
   "metadata": {},
   "outputs": [
    {
     "name": "stdin",
     "output_type": "stream",
     "text": [
      "Weight:  90\n",
      "(K)g 0r (L)bs:  l\n"
     ]
    },
    {
     "name": "stdout",
     "output_type": "stream",
     "text": [
      "Your weight in Lbs is 200.0\n"
     ]
    }
   ],
   "source": [
    "Weight = int(input(\"Weight: \"))\n",
    "unit = input(\"(K)g 0r (L)bs: \")\n",
    "if unit == \"K\" or \"k\":\n",
    "    W =  Weight / 0.45\n",
    "    \n",
    "    print( \"Your weight in Lbs is\" + \" \" + str(W))\n",
    "elif unit == \"L\" or \"l\":\n",
    "    W = Weight * 0.45\n",
    "    print( \"Your weight in kg is\" + \" \" + str(W))\n",
    "else: print(\"incorrect input\")\n",
    "  \n",
    "\n"
   ]
  },
  {
   "cell_type": "markdown",
   "id": "dfcf55ab-d5bf-43d9-8108-4de85b7b903e",
   "metadata": {},
   "source": [
    "***WHILE LOOP**\n"
   ]
  },
  {
   "cell_type": "code",
   "execution_count": 154,
   "id": "fa4e1ce2-202e-41b3-965d-726e8a561a53",
   "metadata": {},
   "outputs": [
    {
     "name": "stdout",
     "output_type": "stream",
     "text": [
      "1\n",
      "6\n",
      "11\n",
      "16\n",
      "21\n",
      "26\n",
      "31\n",
      "36\n",
      "41\n",
      "46\n"
     ]
    }
   ],
   "source": [
    "a = 1\n",
    "while a <=50:\n",
    "    print(a)\n",
    "    a = a + 5"
   ]
  },
  {
   "cell_type": "code",
   "execution_count": null,
   "id": "94189089-3b42-4cee-8a9d-12649908f025",
   "metadata": {},
   "outputs": [],
   "source": []
  },
  {
   "cell_type": "markdown",
   "id": "85b22145-2a8c-46d1-88c9-2bdfde6fe257",
   "metadata": {},
   "source": [
    "***LIST OPERATION***"
   ]
  },
  {
   "cell_type": "code",
   "execution_count": 182,
   "id": "b04d4d21-532a-4acc-958c-2a3e39164237",
   "metadata": {},
   "outputs": [
    {
     "name": "stdout",
     "output_type": "stream",
     "text": [
      "mango\n",
      "bananas\n",
      "apples\n",
      "lemon\n",
      "oranges\n",
      "grapes\n",
      "['mango', 'bananas', 'apples']\n",
      "['bananas', 'apples', 'grapes', 'oranges']\n",
      "['apples', 'grapes']\n",
      "['mango', 'bananas', 'apples', 'grapes', 'oranges', 'lemon', 'pineapple']\n",
      "['watermelon', 'mango', 'bananas', 'grapes', 'oranges', 'lemon', 'pineapple']\n",
      "True\n",
      "False\n",
      "7\n"
     ]
    }
   ],
   "source": [
    "fruit = [\"mango\", \"bananas\", \"apples\", \"grapes\", \"oranges\", \"lemon\"]\n",
    "\n",
    "#To count from the front we use ([0 -1])\n",
    "print(fruit[0])\n",
    "print(fruit[1])\n",
    "print(fruit[2])\n",
    "\n",
    "\n",
    "#to count from the back we use([-1 -9])\n",
    "print(fruit[-1])\n",
    "print(fruit[-2])\n",
    "print(fruit[-3])\n",
    "\n",
    "#to count in between we use (0: 9)\n",
    "print(fruit[0:3])\n",
    "print(fruit[1:5])\n",
    "print(fruit[2:4])\n",
    "\n",
    "#to add an object to a list\n",
    "fruit.append(\"pineapple\")\n",
    "print(fruit)\n",
    "\n",
    "#to insert an object into a list\n",
    "fruit.insert(0, \"watermelon\")\n",
    "\n",
    "#to remove an object from a list\n",
    "fruit.remove(\"apples\")\n",
    "print(fruit)\n",
    "\n",
    "#to check in an onject is in a list \n",
    "print(\"grapes\" in fruit)\n",
    "print(\"lime\" in fruit)\n",
    "\n",
    "#to know how many items are in a list\n",
    "print(len(fruit))"
   ]
  },
  {
   "cell_type": "code",
   "execution_count": null,
   "id": "5793109e-6457-4ccb-a2d7-cceb84609b25",
   "metadata": {},
   "outputs": [],
   "source": []
  },
  {
   "cell_type": "markdown",
   "id": "356f1373-1a9d-476c-9508-15b589d4a5e7",
   "metadata": {},
   "source": [
    "***FOR LOOP***"
   ]
  },
  {
   "cell_type": "code",
   "execution_count": 185,
   "id": "7ff2af1f-0dcc-4ef2-94a3-f3e338b381cd",
   "metadata": {},
   "outputs": [
    {
     "name": "stdout",
     "output_type": "stream",
     "text": [
      "watermelon\n",
      "mango\n",
      "bananas\n",
      "grapes\n",
      "oranges\n",
      "lemon\n",
      "pineapple\n"
     ]
    }
   ],
   "source": [
    "for items in fruit:\n",
    "    print(items)"
   ]
  },
  {
   "cell_type": "markdown",
   "id": "04eba0c8-06ac-498d-866e-f0310e3c03b4",
   "metadata": {},
   "source": [
    "***RANGE()***"
   ]
  },
  {
   "cell_type": "code",
   "execution_count": null,
   "id": "3055211f-561c-4ace-bfdd-1f43701ac063",
   "metadata": {},
   "outputs": [],
   "source": []
  }
 ],
 "metadata": {
  "kernelspec": {
   "display_name": "Python 3 (ipykernel)",
   "language": "python",
   "name": "python3"
  },
  "language_info": {
   "codemirror_mode": {
    "name": "ipython",
    "version": 3
   },
   "file_extension": ".py",
   "mimetype": "text/x-python",
   "name": "python",
   "nbconvert_exporter": "python",
   "pygments_lexer": "ipython3",
   "version": "3.12.7"
  }
 },
 "nbformat": 4,
 "nbformat_minor": 5
}

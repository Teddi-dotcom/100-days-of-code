{
 "cells": [
  {
   "cell_type": "markdown",
   "id": "0950fe38-f053-4710-bed6-f32534709674",
   "metadata": {},
   "source": [
    "***FUNCTIONS AND MODULES***"
   ]
  },
  {
   "cell_type": "code",
   "execution_count": 3,
   "id": "418a56d6-f516-41fb-895f-3aaefc18c325",
   "metadata": {},
   "outputs": [],
   "source": [
    "#Moldules are collections of functions in a py file\n",
    "\n",
    "\n",
    "#Standard libary modules includes maths, random and sys modules\n",
    "\n",
    "#Maths modules are the list function which are defined with describtion and examples"
   ]
  },
  {
   "cell_type": "code",
   "execution_count": null,
   "id": "459863f0-9e13-4873-9b26-4ce928a77b55",
   "metadata": {},
   "outputs": [],
   "source": []
  },
  {
   "cell_type": "markdown",
   "id": "be86a482-35d6-458d-a4f9-04927ffa8c94",
   "metadata": {},
   "source": [
    "***MATHS MODULES***"
   ]
  },
  {
   "cell_type": "code",
   "execution_count": 9,
   "id": "f8598388-0d50-44d6-9a8d-0d90fa172da9",
   "metadata": {},
   "outputs": [],
   "source": [
    "#Maths modules are the list function which are defined with describtion and examples\n",
    "\n",
    "import math"
   ]
  },
  {
   "cell_type": "code",
   "execution_count": 17,
   "id": "3e04f62b-50ef-4850-b55a-71b5c96f2387",
   "metadata": {},
   "outputs": [
    {
     "data": {
      "text/plain": [
       "59049.0"
      ]
     },
     "execution_count": 17,
     "metadata": {},
     "output_type": "execute_result"
    }
   ],
   "source": [
    "x =9\n",
    "y = 5\n",
    "z= [2, 3, 4, 5]\n",
    "\n",
    "math.pow(x,y)"
   ]
  },
  {
   "cell_type": "code",
   "execution_count": 13,
   "id": "6999f9c4-456d-4a62-8ec0-209b70b6db3d",
   "metadata": {},
   "outputs": [
    {
     "data": {
      "text/plain": [
       "3.0"
      ]
     },
     "execution_count": 13,
     "metadata": {},
     "output_type": "execute_result"
    }
   ],
   "source": [
    "math.sqrt(x)"
   ]
  },
  {
   "cell_type": "code",
   "execution_count": 19,
   "id": "c6ce680c-99d1-437f-ad27-b9925d91d520",
   "metadata": {},
   "outputs": [
    {
     "data": {
      "text/plain": [
       "14.0"
      ]
     },
     "execution_count": 19,
     "metadata": {},
     "output_type": "execute_result"
    }
   ],
   "source": [
    "math.fsum(z)"
   ]
  },
  {
   "cell_type": "code",
   "execution_count": 25,
   "id": "9fd5a9f4-94d6-41e9-aac0-6ce52be7cdaa",
   "metadata": {},
   "outputs": [
    {
     "data": {
      "text/plain": [
       "120"
      ]
     },
     "execution_count": 25,
     "metadata": {},
     "output_type": "execute_result"
    }
   ],
   "source": [
    "math.factorial(5)"
   ]
  },
  {
   "cell_type": "markdown",
   "id": "fe5bab51-119b-4dba-858e-da0560b8eb19",
   "metadata": {},
   "source": [
    "***RANDOM MODULE***"
   ]
  },
  {
   "cell_type": "code",
   "execution_count": 28,
   "id": "5c982e65-1261-4705-a8f2-5414e251df6a",
   "metadata": {},
   "outputs": [],
   "source": [
    "#Random module is used to generate a random entity from a given set of values\n"
   ]
  },
  {
   "cell_type": "code",
   "execution_count": 30,
   "id": "3c72cf6a-03d2-462d-ad24-dbc8e9567b2d",
   "metadata": {},
   "outputs": [],
   "source": [
    "import random"
   ]
  },
  {
   "cell_type": "code",
   "execution_count": 36,
   "id": "94796280-9618-427b-ad08-7776a87c2f65",
   "metadata": {},
   "outputs": [
    {
     "data": {
      "text/plain": [
       "12"
      ]
     },
     "execution_count": 36,
     "metadata": {},
     "output_type": "execute_result"
    }
   ],
   "source": [
    "random.randint(1,20)\n",
    "#returns a random integer between the 2 given parameters"
   ]
  },
  {
   "cell_type": "code",
   "execution_count": 44,
   "id": "46f29d15-2d31-49b6-ae97-483bff74d2ea",
   "metadata": {},
   "outputs": [
    {
     "data": {
      "text/plain": [
       "4"
      ]
     },
     "execution_count": 44,
     "metadata": {},
     "output_type": "execute_result"
    }
   ],
   "source": [
    "random.randrange(1,10,3)\n",
    "\n",
    "#does the same as randint but the last parameter is the step i.e how many values it should skip"
   ]
  },
  {
   "cell_type": "code",
   "execution_count": null,
   "id": "7fbe1d8e-6a1b-460b-8cdd-fd1fbd9bf499",
   "metadata": {},
   "outputs": [],
   "source": []
  }
 ],
 "metadata": {
  "kernelspec": {
   "display_name": "Python 3 (ipykernel)",
   "language": "python",
   "name": "python3"
  },
  "language_info": {
   "codemirror_mode": {
    "name": "ipython",
    "version": 3
   },
   "file_extension": ".py",
   "mimetype": "text/x-python",
   "name": "python",
   "nbconvert_exporter": "python",
   "pygments_lexer": "ipython3",
   "version": "3.12.7"
  }
 },
 "nbformat": 4,
 "nbformat_minor": 5
}
